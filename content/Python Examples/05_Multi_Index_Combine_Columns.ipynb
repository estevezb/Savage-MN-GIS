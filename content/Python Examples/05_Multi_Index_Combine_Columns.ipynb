{
 "cells": [
  {
   "cell_type": "markdown",
   "metadata": {},
   "source": [
    "- Title: Multi-Index Combine Columns\n",
    "- Slug: multi-index\n",
    "- Category: Python Examples\n",
    "- Date: 2025-02-18\n",
    "- Tags: Python, pandas\n",
    "- Summary: Combining columns in a multi-index DataFrame\"\n",
    "- Author: Brian Estevez"
   ]
  },
  {
   "cell_type": "markdown",
   "metadata": {},
   "source": [
    "# 05 Changing Index and Combining Columns in Pandas"
   ]
  },
  {
   "cell_type": "code",
   "execution_count": null,
   "metadata": {},
   "outputs": [],
   "source": [
    "import pandas as pd"
   ]
  },
  {
   "cell_type": "code",
   "execution_count": null,
   "metadata": {},
   "outputs": [],
   "source": [
    "# tuples are different\n",
    "tuple1 = (1,2,3,4) # we create tuples with parentheses \n",
    "\n",
    "tuple2 = tuple1 # we copy the tuple1 into another variable tuple2\n",
    "\n",
    "# When we add to tuple2, we are NOT changing the original tuple2 variable\n",
    "# we are creating a NEW tuple that has the same elements as tuple2 with addition of 5, and assigning the NEW tuple to the variable tuple2\n",
    "tuple2 += (5,) \n",
    "\n",
    "print(tuple1)\n",
    "print(tuple2)\n",
    "\n",
    "# A DataFrame can be created from a dictionary of tuples\n",
    "# Each key-value pair in the dictionary corresponds to a column in the DataFrame\n",
    "# The key is the column label and the tuple is the column data\n",
    "data = {\n",
    "    'mag': (1,1,3,3),\n",
    "    'date': ('April 11 2024','April 11 2024','April 12 2024','April 13 2024'),\n",
    "    'inj' : (1,2,100,200)\n",
    "}\n",
    "tdata = pd.DataFrame(data)\n",
    "\n",
    "############################################33\n",
    "\n",
    "### SIDE BAR - A mini lesson on Zip(): \n",
    "# Zip() is used to pair elements\n",
    "            # say you have two lists\n",
    "# Using zip to pair elements from two lists\n",
    "list1 = ['a', 'b', 'c']\n",
    "list2 = [1, 2, 3]\n",
    "paired = list(zip(list1, list2))\n",
    "print(paired)  # Output: [('a', 1), ('b', 2), ('c', 3)]\n",
    "\n",
    "## END\n",
    "#################################################\n",
    "\n",
    "# Combine the 'the 'mag' and 'date' columns to tuples in a new column called key\n",
    "tdata['key'] = list(zip(tdata['mag'], tdata['date']))\n",
    "\n",
    "# Now you can use the 'key' column to group the data\n",
    "grouped = tdata.groupby('key')['inj'].sum() # sum injuries for each unique combination of mag-date\n",
    "print(tdata)\n",
    "print(grouped)"
   ]
  },
  {
   "cell_type": "code",
   "execution_count": null,
   "metadata": {},
   "outputs": [],
   "source": [
    "# Create a DataFrame\n",
    "data = {\n",
    "    'city': ['New York', 'Los Angeles', 'Chicago', 'New York', 'Los Angeles', 'Chicago'],\n",
    "    'date': ['2021-01-01', '2021-01-01', '2021-01-01', '2021-02-01', '2021-02-01', '2021-02-01'],\n",
    "    'temperature': [32, 75, 30, 30, 77, 30]\n",
    "}\n",
    "df = pd.DataFrame(data)\n",
    "\n",
    "\n",
    "\n",
    "# Now let's use zip() to pair columns again\n",
    "\n",
    "# Combine the 'city' and 'date' columns to tuples in a new column called Key\n",
    "df['key'] = list(zip(df['city'], df['temperature']))\n",
    "\n",
    "# Now you can use the 'key' column to group the data\n",
    "grouped = df.groupby('key')['date'].nunique() # nunique counts the number of unique date per city-temp \n",
    "\n",
    "print(df) # before grouping\n",
    "print(grouped)\n",
    "\n",
    "# while the example is strange, combining columns into one is useful\n",
    "\n",
    "# Why? : combining columns allows you to consider multiple columns in your analysis \n",
    "# with less computational and coding effort than grouping by multiple columns"
   ]
  }
 ],
 "metadata": {
  "language_info": {
   "name": "python"
  }
 },
 "nbformat": 4,
 "nbformat_minor": 2
}
