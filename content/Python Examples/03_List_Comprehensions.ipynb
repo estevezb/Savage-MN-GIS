{
 "cells": [
  {
   "cell_type": "markdown",
   "metadata": {},
   "source": [
    "- Title: Using List comprehensions\n",
    "- Slug: list-comprehensions\n",
    "- Category: Python Examples\n",
    "- Date: 2025-07-08\n",
    "- Tags: Python\n",
    "- Author: Brian Estevez"
   ]
  },
  {
   "cell_type": "markdown",
   "metadata": {},
   "source": [
    "# List comprehensions"
   ]
  },
  {
   "cell_type": "code",
   "execution_count": null,
   "metadata": {},
   "outputs": [],
   "source": [
    "# A more practical case where we start with a list\n",
    "    # need to capitalize all letters of the city names \n",
    "    # We can modify data and save to a variable without altering the original data\n",
    "\n",
    "def Upper_string(input_string):\n",
    "    # Converts each string to uppercase, returning a new string\n",
    "    return input_string.upper() # we use a string method here called .upper()\n",
    "\n",
    "# Original list of city names we started with\n",
    "original_strings = ['Chicago', 'Philadelphia', 'Houston']\n",
    "\n",
    "# Use a list comprehension to modify our list of strings, creating a new list of strings\n",
    "    # General structure of list comprehension:\n",
    "        # [expression for item in iterable if condition]\n",
    "        # Note: We do not use the if condition in this case\n",
    "\n",
    " # new list             # expression    # iterate over items in the list\n",
    "capitalized_strings = [Upper_string(city) for city in original_strings] # list comprehension that applies function to each string\n",
    "\n",
    "print(\"New strings: \", capitalized_strings)  #  the list of capitalized city names\n",
    "print(\"Original strings: \", original_strings)  #  the original list remains unchanged"
   ]
  }
 ],
 "metadata": {
  "language_info": {
   "name": "python"
  }
 },
 "nbformat": 4,
 "nbformat_minor": 2
}
