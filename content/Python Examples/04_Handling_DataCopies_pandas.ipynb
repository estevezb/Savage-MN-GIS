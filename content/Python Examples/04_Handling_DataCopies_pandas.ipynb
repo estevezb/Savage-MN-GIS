{
 "cells": [
  {
   "cell_type": "markdown",
   "metadata": {},
   "source": [
    "- Title: Copying Dataframes in Pandas\n",
    "- Slug: real-df-copies\n",
    "- Category: Python Examples\n",
    "- Date: 2025-07-09\n",
    "- Tags: Python\n",
    "- Author: Brian Estevez"
   ]
  },
  {
   "cell_type": "markdown",
   "metadata": {},
   "source": [
    "# 04_Making real copies of Dataframes in pandas"
   ]
  },
  {
   "cell_type": "code",
   "execution_count": null,
   "metadata": {},
   "outputs": [],
   "source": [
    "import pandas as pd"
   ]
  },
  {
   "cell_type": "markdown",
   "metadata": {},
   "source": [
    "### Examples of mutatble and non-mutable data:\n",
    "### Lists\n",
    "- Are mutable\n",
    "- When we add to or modify lists, the original data is changed\n",
    "### Tuples\n",
    "- Are not mutable\n",
    "- When we try to add to or modify tuples, we actually create a new tuple, as the original tuple cannot be changed"
   ]
  },
  {
   "cell_type": "code",
   "execution_count": null,
   "metadata": {},
   "outputs": [],
   "source": [
    "# Let's start with simple example of appending to a list\n",
    "listA = [1,2,3,4]\n",
    "listB = [1,2,3,4]\n",
    "\n",
    "listA.append(5) # we modify lists, using listName.append(value)\n",
    "\n",
    "print(listA)\n",
    "print(listB)\n",
    "\n",
    "# now we have added a value to our list"
   ]
  },
  {
   "cell_type": "code",
   "execution_count": null,
   "metadata": {},
   "outputs": [],
   "source": [
    "# we can copy a list by setting it equal to a new variable\n",
    "# ...neat\n",
    "# but what will happen if you add to one of these lists?\n",
    "\n",
    "list1 = [1,2,3,4]\n",
    "list2 = list1\n",
    "list2.append(5) # Modifying list2 also modifies list1 because they reference the same list\n",
    "\n",
    "print(list1)\n",
    "print(list2)\n",
    "\n",
    "# DataFrame in pandas\n",
    "\n",
    "    # A DataFrame can be created from a dictionary of lists\n",
    "    # Each key-value pair in the dictionary corresponds to a column in the DataFrame\n",
    "    # The key is the column label and the list is the column data\n",
    "data = {\n",
    "    'mag': [1,1,3,3], # column 1\n",
    "    'date': ['April 10 2024','April 11 2024','April 12 2024','April 13 2024'], # column 2\n",
    "    'inj' : [1,2,100,200] # column 3\n",
    "}\n",
    "tdata = pd.DataFrame(data) #convert to a pandas Dataframe\n",
    "print(tdata)  # lets have a look before changing anything"
   ]
  },
  {
   "cell_type": "code",
   "execution_count": null,
   "metadata": {},
   "outputs": [],
   "source": [
    "# A DataFrame is like a dictionary of lists, but with additional functionality\n",
    "\n",
    "# Be careful when modifying DataFrames OR lists\n",
    "# If you create a new DataFrame OR list by referencing an existing one, they will both point to the same data\n",
    "cleaned_tdata = tdata\n",
    "\n",
    "# So if you modify one, the other will also be modified\n",
    "cleaned_tdata.drop('mag', axis=1, inplace=True)\n",
    "\n",
    "print(tdata)\n",
    "print(cleaned_tdata)\n",
    "\n",
    "# we dropped mag in the cleaned tdata\n",
    "# But that change was also applied to the tdata!"
   ]
  },
  {
   "cell_type": "code",
   "execution_count": null,
   "metadata": {},
   "outputs": [],
   "source": [
    "# Lets try dropping a single row, again notice how this change carries over to the data we 'copied'?\n",
    "\n",
    "\n",
    "\n",
    "data = {\n",
    "    'mag': [1,1,3,3], # column 1\n",
    "    'date': ['April 10 2024','April 11 2024','April 12 2024','April 13 2024'], # column 2\n",
    "    'inj' : [1,2,100,200] # column 3\n",
    "}\n",
    "tdata = pd.DataFrame(data)\n",
    "\n",
    "# We create a 'copy' of the data that we want to work on or clean\n",
    "cleaned_tdata = tdata\n",
    "\n",
    "# Drop the specified rows from the DataFrame in-place\n",
    "# modify one, the other will also be modified\n",
    "cleaned_tdata.drop(cleaned_tdata[cleaned_tdata['mag'] == 1].index, inplace=True)\n",
    "\n",
    "print(tdata)\n",
    "print(cleaned_tdata)"
   ]
  },
  {
   "cell_type": "code",
   "execution_count": null,
   "metadata": {},
   "outputs": [],
   "source": [
    "# To avoid this, create a real copy of the data\n",
    "data = {\n",
    "    'mag': [1,1,3,3], # column 1\n",
    "    'date': ['April 10 2024','April 11 2024','April 12 2024','April 13 2024'], # column 2\n",
    "    'inj' : [1,2,100,200] # column 3\n",
    "}\n",
    "tdata = pd.DataFrame(data)\n",
    "\n",
    "# create a REAL copy of the data to work on or clean\n",
    "cleaned_tdata = tdata.copy()  # creates a real copy of the data\n",
    "\n",
    "# Drop the specified rows from the DataFrame in-place\n",
    "cleaned_tdata.drop(cleaned_tdata[cleaned_tdata['mag'] == 1].index, inplace=True)\n",
    "\n",
    "print(tdata) # The original data is unchanged\n",
    "print(cleaned_tdata)"
   ]
  },
  {
   "cell_type": "code",
   "execution_count": null,
   "metadata": {},
   "outputs": [],
   "source": [
    "# Did we really mean to also modify the original tdata?...\n",
    "# Why did this happen?\n",
    "    # we dropped rows from cleaned_tdata 'in-place', which modified the original data for cleaned_tdata\n",
    "    # since tdata and cleand_tdata both point to the same DataFrame\n",
    "    # modifying the orignal data frame (i.e., using inplace=True) also affects tdata\n",
    "\n",
    "# To avoid changing/losing the original data, best to create a REAL copy using .copy()  BEFORE making any changes to the data"
   ]
  },
  {
   "cell_type": "code",
   "execution_count": null,
   "metadata": {},
   "outputs": [],
   "source": [
    "# use the tuple as a multi-index in the DataFrame. \n",
    "# This allows you to index the DataFrame using the values in multiple columns\n",
    "\n",
    "# Create a DataFrame from a dictionary of tuples\n",
    "data = {\n",
    "    'mag': (1,1,3,3),\n",
    "    'date': ('April 10 2024','April 11 2024','April 12 2024','April 13 2024'),\n",
    "    'inj' : (1,2,100,200)\n",
    "}\n",
    "tdata = pd.DataFrame(data)\n",
    "\n",
    "# Set 'mag' and 'date' as a multi-index\n",
    "tdata.set_index(['mag', 'date'], inplace=True)\n",
    "new_tdata= tdata\n",
    "print(tdata)\n",
    "print(new_tdata)\n",
    "\n",
    "# Access data for a specific 'mag' and 'date'\n",
    "print(tdata.loc[(1, 'April 11 2024')])\n",
    "\n",
    "\n",
    "# Access data for a specific 'mag' and 'date'\n",
    "print(new_tdata.loc[(1, 'April 11 2024')])\n",
    "\n",
    "# Try to change the 'mag' value for a specific row in the index\n",
    "try:\n",
    "    tdata.index[0] = (2, 'April 11 2024')\n",
    "except TypeError as e:\n",
    "    print(f\"TypeError: {e}\")\n",
    "\n",
    "# Try to change the 'date' value for a specific row in the index\n",
    "try:\n",
    "    tdata.index[0] = (1, 'April 12 2024')\n",
    "except TypeError as e:\n",
    "    print(f\"TypeError: {e}\")"
   ]
  },
  {
   "cell_type": "code",
   "execution_count": null,
   "metadata": {},
   "outputs": [],
   "source": [
    "# To change the mag or date values for a specific row\n",
    "# need to create a new tuple, which means creating a new dataframe\n",
    "\n",
    "# .resetindex() Creates NEW DataFrame, applied on tdata will remove the multi-index \n",
    "# reverts tdata back to default integer index, with mag and date as columns\n",
    "tdata_copy = tdata.reset_index()  # tdata_copy is a separate object and does not reference the same data\n",
    "\n",
    "print(tdata) # original data is maintained\n",
    "print(tdata_copy) # a new separate dataframe is created\n",
    "\n",
    "\n",
    "# Now that mag and date are not a tuple, we can change the 'mag' and 'date' values\n",
    "tdata_copy.loc[0, 'mag'] = 5   # changes mag in the first row\n",
    "tdata_copy.loc[0, 'date'] = 'June 1 2024' # changes date in the first row\n",
    "\n",
    "# Set the new multi-index\n",
    "tdata_copy.set_index(['mag', 'date'], inplace=True)\n",
    "\n",
    "\n",
    "print(tdata)\n",
    "print(tdata_copy) # even though it is derived from tdata, it a separate object and changes to one will not affect the other\n"
   ]
  },
  {
   "cell_type": "code",
   "execution_count": null,
   "metadata": {},
   "outputs": [],
   "source": [
    "# In this example, we're setting 'mag' and 'date' as a multi-index for the DataFrame\n",
    "# This allows us to index the DataFrame using the values in both 'mag' and 'date'. The tuple of ('mag', 'date') \n",
    "#     acts as a single key that we can use to index the DataFrame\n",
    "# This is a case where the immutability of tuples is relevant to the analysis of data in a DataFrame.\n",
    "    # Similar to how in functional programming,\n",
    "    # the immutability of data structures ensures that their identity remains constant even as new data structures are created based on them"
   ]
  },
  {
   "cell_type": "code",
   "execution_count": null,
   "metadata": {},
   "outputs": [],
   "source": [
    "# Say we find that we often need to change the data in our dataframe, maybe dates and mags have typos..\n",
    "# We need a function to simplify this re-occuring process \n",
    "# but our dataframe has a tuple multi index\n",
    "# So, our function should take a dataframe, and a tuple, then return a NEW dataframe with the updated index\n",
    "\n",
    "def set_new_index(df, row, new_index_values):\n",
    "\n",
    "    print(df) #input data we want to change\n",
    "\n",
    "    # Create a new DataFrame with the desired index\n",
    "    df_copy = df.reset_index() # reset the index and create a NEW dataframe\n",
    "\n",
    "    print(df_copy) # check the results of the NEW dataframe\n",
    "\n",
    "    df_copy.loc[row, ['mag', 'date']] = new_index_values # change the mag and date for the first row of the NEW dataframe\n",
    "\n",
    "    print(df_copy)\n",
    "\n",
    "    df_copy.set_index(['mag', 'date'], inplace=True) # set the index to the tuple of mag, date for the NEW dataframe\n",
    "\n",
    "    print(df_copy)\n",
    "\n",
    "    return df_copy # return the NEW dataframe with the modified index\n",
    "\n",
    "# This pure function , it doesn't modify the original DataFrame (it has no side effects)\n",
    "# will always product the same output Dataframe for the same input Dataframe,index (we have no external variables in the function modifying our output)\n",
    "\n",
    "new_tdata = set_new_index(tdata, 0, (2, 'April 12 2024')) # creates a new DataFrame with the multi index (tuple) updated\n",
    "\n",
    "print(new_tdata)\n",
    "\n",
    "# This function doesn't modify the original DataFrame (no side effects)"
   ]
  },
  {
   "cell_type": "code",
   "execution_count": null,
   "metadata": {},
   "outputs": [],
   "source": [
    "\n"
   ]
  }
 ],
 "metadata": {
  "language_info": {
   "name": "python"
  }
 },
 "nbformat": 4,
 "nbformat_minor": 2
}
