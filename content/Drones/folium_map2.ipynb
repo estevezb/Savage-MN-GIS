{
 "cells": [
  {
   "cell_type": "markdown",
   "metadata": {},
   "source": [
    "- Title: Real-time Drone Folium Maps Drones\n",
    "- Slug: drone-maps-with-folium-drones\n",
    "- Category: Drones\n",
    "- Date: 2024-07-05\n",
    "- Tags: Python, Maps, Drones\n",
    "- Author: Brian Estevez"
   ]
  },
  {
   "cell_type": "markdown",
   "metadata": {},
   "source": [
    "## How to Use\n",
    "- Run Cell 1:\n",
    "\n",
    "    - This cell sets up the telemetry functions and initializes the CSV file.\n",
    "- Run Cell 2:\n",
    "\n",
    "    - This cell runs the telemetry loop. It will continuously fetch telemetry data and update the map until you interrupt the cell execution (e.g., using the stop button in Jupyter).\n",
    "- Run Cell 3:\n",
    "\n",
    "    - This cell displays the latest map. You can re-run this cell to refresh the map display with updated data."
   ]
  },
  {
   "cell_type": "markdown",
   "metadata": {},
   "source": [
    "## Make a folium map of drone data"
   ]
  },
  {
   "cell_type": "markdown",
   "metadata": {},
   "source": [
    "##  Setup and Telemetry Functions"
   ]
  },
  {
   "cell_type": "code",
   "execution_count": null,
   "metadata": {},
   "outputs": [
    {
     "ename": "",
     "evalue": "",
     "output_type": "error",
     "traceback": [
      "\u001b[1;31mRunning cells with 'venv (Python 3.11.1)' requires the ipykernel package.\n",
      "\u001b[1;31mRun the following command to install 'ipykernel' into the Python environment. \n",
      "\u001b[1;31mCommand: 'c:/Users/Brian/Desktop/Drone/TensorFlow_image_classifier/venv/Scripts/python.exe -m pip install ipykernel -U --force-reinstall'"
     ]
    }
   ],
   "source": [
    "import csv\n",
    "from pathlib import Path\n",
    "import folium\n",
    "import pandas as pd\n",
    "from jinja2 import Template\n",
    "from dronekit import connect\n",
    "import time\n",
    "import datetime\n",
    "import os\n",
    "import subprocess\n",
    "\n",
    "# Function to start GStreamer\n",
    "def start_gstreamer():\n",
    "    gst_command = [\n",
    "        r\"C:\\gstreamer\\1.0\\msvc_x86_64\\bin\\gst-launch-1.0.exe\",\n",
    "        \"udpsrc\", \"port=5600\", \"buffer-size=524288\",\n",
    "        \"!\", \"application/x-rtp\", \n",
    "        \"!\", \"rtpjitterbuffer\", \"latency=200\",\n",
    "        \"!\", \"rtph264depay\",\n",
    "        \"!\", \"avdec_h264\",\n",
    "        \"!\", \"videoconvert\",\n",
    "        \"!\", \"autovideosink\"\n",
    "    ]\n",
    "    return subprocess.Popen(gst_command)\n",
    "\n",
    "# Start GStreamer\n",
    "gst_process = start_gstreamer()\n",
    "\n",
    "# Connect to the drone's telemetry feed\n",
    "vehicle = connect('udpin:192.168.0.144:14550', wait_ready=False)\n",
    "vehicle.initialize(8, 30)\n",
    "vehicle.wait_ready('autopilot_version')\n",
    "\n",
    "telemetry_count = 0  # Initialize the counter\n",
    "\n",
    "# Path for the CSV file\n",
    "current_directory = Path.cwd()\n",
    "subdirectory = 'Data'\n",
    "data_directory = current_directory / subdirectory\n",
    "data_directory.mkdir(exist_ok=True)\n",
    "file_path = data_directory / 'drone_photos.csv'\n",
    "\n",
    "# Initialize the CSV file\n",
    "with open(file_path, 'w', newline='') as file:\n",
    "    writer = csv.writer(file)\n",
    "    writer.writerow(['latitude', 'longitude', 'photo', 'timestamp', 'description'])\n",
    "\n",
    "def print_telemetry():\n",
    "    \"\"\"Prints the drone's telemetry data and updates the CSV file.\"\"\"\n",
    "    global telemetry_count\n",
    "    telemetry_count += 1  # Increment the counter\n",
    "    current_time = datetime.datetime.now().strftime('%Y-%m-%d %H:%M:%S')  # Get the current local time\n",
    "    print(f'Telemetry Data Feed {telemetry_count} - Timestamp: {current_time}')\n",
    "    print('Location global alt (feet): %s' % (vehicle.location.global_frame.alt * 3.281 if vehicle.location.global_frame.alt else None))\n",
    "    print('Pitch: %s' % vehicle.attitude.pitch)\n",
    "    print(\"Velocity: %s\" % vehicle.velocity)\n",
    "    print(\"GPS: %s\" % vehicle.gps_0)\n",
    "    print(\"Flight mode currently: %s\" % vehicle.mode.name)\n",
    "    print('Battery level: %s' % vehicle.battery.level)\n",
    "    print('Status: %s' % vehicle.system_status.state)\n",
    "    print('Armed: %s' % vehicle.armed)\n",
    "    print('Heading: %s' % vehicle.heading)\n",
    "    print('Speed: %s' % vehicle.groundspeed)\n",
    "    print('GPS fix: %s' % vehicle.gps_0.fix_type)\n",
    "    print('Satellites: %s' % vehicle.gps_0.satellites_visible)\n",
    "    print('Location global lat: %s' % vehicle.location.global_frame.lat)\n",
    "    print('Location global lon: %s' % vehicle.location.global_frame.lon)\n",
    "    print('Groundspeed: %s' % vehicle.groundspeed)\n",
    "    print('Velocity: %s' % vehicle.velocity[2])\n",
    "    \n",
    "    # Save telemetry data to a CSV file\n",
    "    with open(file_path, 'a', newline='') as file:\n",
    "        writer = csv.writer(file)\n",
    "        writer.writerow([\n",
    "            vehicle.location.global_frame.lat,\n",
    "            vehicle.location.global_frame.lon,\n",
    "            'photo.jpg',  # Placeholder for photo name\n",
    "            current_time,\n",
    "            f'Telemetry Data Feed {telemetry_count}'\n",
    "        ])\n",
    "\n",
    "def update_map():\n",
    "    \"\"\"Updates the Folium map with the latest telemetry data.\"\"\"\n",
    "    # Load the updated data\n",
    "    data = pd.read_csv(file_path)\n",
    "\n",
    "    # Create a map centered around the average coordinates\n",
    "    map_center = [data['latitude'].mean(), data['longitude'].mean()]\n",
    "    m = folium.Map(location=map_center, zoom_start=13)\n",
    "\n",
    "    # Add markers with popups for each telemetry point\n",
    "    for idx, row in data.iterrows():\n",
    "        popup_html = f\"\"\"\n",
    "        <strong>Description:</strong> {row['description']}<br>\n",
    "        <strong>Timestamp:</strong> {row['timestamp']}<br>\n",
    "        <img src='{row['photo']}' alt='Photo' width='200'>\n",
    "        \"\"\"\n",
    "        folium.Marker([row['latitude'], row['longitude']], popup=popup_html).add_to(m)\n",
    "\n",
    "    # Save the Folium map to a string\n",
    "    folium_map = m._repr_html_()\n",
    "\n",
    "    # Load the Jinja2 template\n",
    "    template_html = \"\"\"\n",
    "    <!DOCTYPE html>\n",
    "    <html lang=\"en\">\n",
    "    <head>\n",
    "        <meta charset=\"UTF-8\">\n",
    "        <meta name=\"viewport\" content=\"width=device-width, initial-scale=1.0\">\n",
    "        <title>Drone Photos Map</title>\n",
    "    </head>\n",
    "    <body>\n",
    "        {{ folium_map | safe }}\n",
    "    </body>\n",
    "    </html>\n",
    "    \"\"\"\n",
    "\n",
    "    template = Template(template_html)\n",
    "    rendered_html = template.render(folium_map=folium_map)\n",
    "\n",
    "    # Save the rendered HTML to a file\n",
    "    output_path = current_directory / 'map.html'\n",
    "    with open(output_path, 'w') as f:\n",
    "        f.write(rendered_html)"
   ]
  },
  {
   "cell_type": "markdown",
   "metadata": {},
   "source": [
    "## Running the Telemetry Loop"
   ]
  },
  {
   "cell_type": "code",
   "execution_count": null,
   "metadata": {},
   "outputs": [],
   "source": [
    "import time\n",
    "\n",
    "exit_flag = False  # Flag to indicate whether to exit the main loop\n",
    "\n",
    "# Continuously print telemetry data every 30 seconds until user interrupts\n",
    "try:\n",
    "    while not exit_flag:\n",
    "        print_telemetry()\n",
    "        update_map()\n",
    "        \n",
    "        # Wait for 30 seconds, but check for interruption\n",
    "        for _ in range(30):\n",
    "            if user_input in ['q', 'quit']:\n",
    "                exit_flag = True\n",
    "                break\n",
    "            time.sleep(1)\n",
    "except KeyboardInterrupt:\n",
    "    exit_flag = True\n",
    "finally:\n",
    "    # Close the vehicle connection\n",
    "    vehicle.close()\n",
    "    print(\"Vehicle connection closed.\")"
   ]
  },
  {
   "cell_type": "markdown",
   "metadata": {},
   "source": [
    "## Display the Map in Jupyter Notebook\n"
   ]
  },
  {
   "cell_type": "code",
   "execution_count": null,
   "metadata": {},
   "outputs": [],
   "source": [
    "from IPython.display import IFrame\n",
    "IFrame('map.html', width=700, height=600)"
   ]
  }
 ],
 "metadata": {
  "kernelspec": {
   "display_name": "myenv",
   "language": "python",
   "name": "python3"
  },
  "language_info": {
   "codemirror_mode": {
    "name": "ipython",
    "version": 3
   },
   "file_extension": ".py",
   "mimetype": "text/x-python",
   "name": "python",
   "nbconvert_exporter": "python",
   "pygments_lexer": "ipython3",
   "version": "3.11.1"
  }
 },
 "nbformat": 4,
 "nbformat_minor": 2
}
